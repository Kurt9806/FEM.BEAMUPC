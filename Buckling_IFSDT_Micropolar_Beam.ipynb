{
  "nbformat": 4,
  "nbformat_minor": 0,
  "metadata": {
    "colab": {
      "name": "Buckling IFSDT Micropolar Beam",
      "provenance": [],
      "collapsed_sections": [
        "hrsACZdvmIwg",
        "MS0t428Wsz0V",
        "dLQp-AHEDMd9",
        "LwHWnFG7DNR9",
        "c1B9n_CPXMTl",
        "wUxTCJZ0F1_q",
        "UiGdi5xZXJ4e",
        "0y-_dF_1IYZq"
      ],
      "toc_visible": true,
      "authorship_tag": "ABX9TyOD9Ld9hzvbyrD2rfAx4IJI",
      "include_colab_link": true
    },
    "kernelspec": {
      "name": "python3",
      "display_name": "Python 3"
    }
  },
  "cells": [
    {
      "cell_type": "markdown",
      "metadata": {
        "id": "view-in-github",
        "colab_type": "text"
      },
      "source": [
        "<a href=\"https://colab.research.google.com/github/Kurt9806/FEM.BEAMUPC/blob/master/Buckling_IFSDT_Micropolar_Beam.ipynb\" target=\"_parent\"><img src=\"https://colab.research.google.com/assets/colab-badge.svg\" alt=\"Open In Colab\"/></a>"
      ]
    },
    {
      "cell_type": "code",
      "metadata": {
        "id": "Za0VOC5cOrSS",
        "colab_type": "code",
        "colab": {}
      },
      "source": [
        "import numpy as np\n",
        "import math\n",
        "from scipy.linalg import eig\n",
        "from matplotlib import pyplot as plt\n",
        "from scipy.io import loadmat\n",
        "import pandas as pd"
      ],
      "execution_count": null,
      "outputs": []
    },
    {
      "cell_type": "code",
      "metadata": {
        "id": "ujbjUP7raLtx",
        "colab_type": "code",
        "colab": {
          "resources": {
            "http://localhost:8080/nbextensions/google.colab/files.js": {
              "data": "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",
              "ok": true,
              "headers": [
                [
                  "content-type",
                  "application/javascript"
                ]
              ],
              "status": 200,
              "status_text": ""
            }
          },
          "base_uri": "https://localhost:8080/",
          "height": 73
        },
        "outputId": "d7bee83f-d39c-4e84-a4fb-96c503365afc"
      },
      "source": [
        "from google.colab import files\n",
        "uploaded = files.upload()"
      ],
      "execution_count": null,
      "outputs": [
        {
          "output_type": "display_data",
          "data": {
            "text/html": [
              "\n",
              "     <input type=\"file\" id=\"files-85854493-0004-4785-8b39-7c974875eff1\" name=\"files[]\" multiple disabled\n",
              "        style=\"border:none\" />\n",
              "     <output id=\"result-85854493-0004-4785-8b39-7c974875eff1\">\n",
              "      Upload widget is only available when the cell has been executed in the\n",
              "      current browser session. Please rerun this cell to enable.\n",
              "      </output>\n",
              "      <script src=\"/nbextensions/google.colab/files.js\"></script> "
            ],
            "text/plain": [
              "<IPython.core.display.HTML object>"
            ]
          },
          "metadata": {
            "tags": []
          }
        },
        {
          "output_type": "stream",
          "text": [
            "Saving 0-Cantilever-tip load_Hassanpour_Fig4_paper.mat to 0-Cantilever-tip load_Hassanpour_Fig4_paper.mat\n"
          ],
          "name": "stdout"
        }
      ]
    },
    {
      "cell_type": "code",
      "metadata": {
        "id": "LLUTVZbtawbn",
        "colab_type": "code",
        "colab": {}
      },
      "source": [
        "Dict = loadmat('0-Cantilever-tip load_Hassanpour_Fig4_paper.mat')\n",
        "b = float(Dict['b'][0][0])\n",
        "g = float(Dict['g'][0][0])\n",
        "ka = float(Dict['kah'][0][0])\n",
        "u = float(Dict['u'][0][0])\n",
        "E = float(Dict['E'][0][0])\n",
        "Hh = float(Dict['Hh'][0][0])\n",
        "Bb = float(Dict['Bb'][0][0])\n",
        "P = int(Dict['P'][0][0])\n",
        "\n",
        "IELEM = int(Dict['IELEM'][0][0])\n",
        "NSPV = int(Dict['NSPV'][0][0])\n",
        "\n",
        "DX = Dict['DX'][0]\n",
        "ISPV = Dict['ISPV']\n",
        "VSPV = Dict['VSPV'][0]"
      ],
      "execution_count": null,
      "outputs": []
    },
    {
      "cell_type": "code",
      "metadata": {
        "id": "h4cxRtQtRjsX",
        "colab_type": "code",
        "colab": {
          "base_uri": "https://localhost:8080/",
          "height": 34
        },
        "outputId": "be9fc324-1fb1-4dab-e82e-1f9a4d8165ef"
      },
      "source": [
        "# Figure 2 - Micropolar Hasanyan\n",
        "BC='SS'\n",
        "Nu=1/3\n",
        "E=1\n",
        "le=E/((1+Nu)*(1-2*Nu))\n",
        "ue=E/(2*(1+Nu))\n",
        "g=0\n",
        "ke=0\n",
        "ka=0.0001\n",
        "b=0\n",
        "Bb=1\n",
        "\n",
        "num=100\n",
        "R=[]\n",
        "X=[]\n",
        "for i in range(num):\n",
        "  Hh=1/(3*math.pi)+((4/math.pi - 1/(3*math.pi))/num)*i\n",
        "  W = IFSDTBuck_MP(le,ke,ue,g,Bb,Hh,P,IELEM,BC,DX)\n",
        "  R.append(W[0])\n",
        "  X.append(Hh)\n",
        "\n",
        "df = pd.DataFrame(R)\n",
        "df.to_csv('LoadIFSDT.csv',index=False,header=False)\n",
        "df1 = pd.DataFrame(X)\n",
        "df1.to_csv('RatioIFSDT.csv',index=False,header=False)\n"
      ],
      "execution_count": null,
      "outputs": [
        {
          "output_type": "stream",
          "text": [
            "/usr/local/lib/python3.6/dist-packages/ipykernel_launcher.py:20: RuntimeWarning: invalid value encountered in true_divide\n"
          ],
          "name": "stderr"
        }
      ]
    },
    {
      "cell_type": "code",
      "metadata": {
        "id": "IkSmp-vghMfZ",
        "colab_type": "code",
        "colab": {
          "base_uri": "https://localhost:8080/",
          "height": 54
        },
        "outputId": "b160fc2c-6484-448c-b643-4e7accd4598a"
      },
      "source": [
        "print(R)"
      ],
      "execution_count": null,
      "outputs": [
        {
          "output_type": "stream",
          "text": [
            "[0.00124, 0.00168, 0.00221, 0.00284, 0.00356, 0.00439, 0.00533, 0.00637, 0.00753, 0.00881, 0.01019, 0.0117, 0.01331, 0.01505, 0.01689, 0.01885, 0.02091, 0.02309, 0.02536, 0.02774, 0.03022, 0.03279, 0.03545, 0.03821, 0.04104, 0.04396, 0.04695, 0.05002, 0.05316, 0.05637, 0.05964, 0.06297, 0.06635, 0.0698, 0.07329, 0.07683, 0.08041, 0.08404, 0.0877, 0.09141, 0.09515, 0.09892, 0.10272, 0.10655, 0.1104, 0.11428, 0.11818, 0.1221, 0.12604, 0.13, 0.13398, 0.13797, 0.14197, 0.14599, 0.15002, 0.15406, 0.1581, 0.16216, 0.16622, 0.17029, 0.17437, 0.17845, 0.18253, 0.18662, 0.19072, 0.19481, 0.19891, 0.20301, 0.20711, 0.21122, 0.21532, 0.21942, 0.22352, 0.22763, 0.23173, 0.23583, 0.23993, 0.24403, 0.24813, 0.25222, 0.25631, 0.26041, 0.26449, 0.26858, 0.27266, 0.27675, 0.28082, 0.2849, 0.28897, 0.29304, 0.29711, 0.30117, 0.30523, 0.30929, 0.31335, 0.3174, 0.32144, 0.32549, 0.32953, 0.33357]\n"
          ],
          "name": "stdout"
        }
      ]
    },
    {
      "cell_type": "markdown",
      "metadata": {
        "id": "hrsACZdvmIwg",
        "colab_type": "text"
      },
      "source": [
        "# Calculation of Mesh 1D\n",
        "Code that calcultae the mesh of the system"
      ]
    },
    {
      "cell_type": "code",
      "metadata": {
        "id": "6COzxl1KmPSY",
        "colab_type": "code",
        "colab": {}
      },
      "source": [
        "def NLMSH1D(IELEM,IPDF,DX,X0=0):\n",
        "  \"\"\"Calculate a 1D mesh with the number of elements and their spaces.\n",
        "\n",
        "  Args:\n",
        "    IELEM (int): Number of elements\n",
        "    IPDF (int): Number of points in an element\n",
        "    DX (array): Spaces between elements\n",
        "    X0 (int, optional): Beginning of structure\n",
        "  \n",
        "  Returns:\n",
        "    Array\n",
        "  \"\"\"\n",
        "\n",
        "  NOD = np.zeros((IELEM,IPDF))\n",
        "  for i in range(IPDF):\n",
        "    NOD[0,i] = i\n",
        "  for n in range(1,IELEM):\n",
        "    for i in range(IPDF):\n",
        "      NOD[n,i]=NOD[n-1,i]+IPDF-1\n",
        "  \n",
        "  # Generate the mesh of a 1D element\n",
        "\n",
        "  GLX=[X0]\n",
        "  for i in range(IELEM):\n",
        "    for j in range(1,IPDF):\n",
        "      GLX.append(GLX[-1]+DX[i]/(IPDF-1))\n",
        "  NOD = NOD.astype(int)\n",
        "  \n",
        "  return NOD, GLX"
      ],
      "execution_count": null,
      "outputs": []
    },
    {
      "cell_type": "markdown",
      "metadata": {
        "id": "MS0t428Wsz0V",
        "colab_type": "text"
      },
      "source": [
        "# Shape functions\n",
        "Calculate the Lagrangian Shape functions\n",
        "\n"
      ]
    },
    {
      "cell_type": "code",
      "metadata": {
        "id": "sCK5gS7ZssdX",
        "colab_type": "code",
        "colab": {}
      },
      "source": [
        "def SHAPE1D(H,NPE,XI):\n",
        "  \"\"\"Calculate the Lagrangian Shape functions in one dimension by a given length of \n",
        "  element, number of points and point value. Returns an array of values of the \n",
        "  shape function and its derivative.\n",
        "\n",
        "  Args:\n",
        "    H (float): The length of the element\n",
        "    NPE (int): Number of points in each element\n",
        "    XI (array): Values of quadrature points calculated\n",
        "  \n",
        "  Returns:\n",
        "    Arrays\n",
        "  \"\"\"\n",
        "\n",
        "# Calculate the Lagrangian shape functions by a given length H.\n",
        "  P=NPE-1\n",
        "  XF=[]\n",
        "  XDF=[]\n",
        "\n",
        "  XNODE = np.linspace(-1,1,num=NPE)\n",
        "\n",
        "  for i in range(NPE):\n",
        "    r3=np.zeros(NPE)\n",
        "    s1=np.ones(NPE)\n",
        "    r1=np.ones(NPE)\n",
        "    for n in range(NPE):\n",
        "      if n != i:\n",
        "        s1 = s1 * (XI-XNODE[n])\n",
        "        r1 = r1 * (XNODE[i]-XNODE[n])\n",
        "    XF.append(s1/r1)\n",
        "\n",
        "    for j in range(NPE):\n",
        "      s3 = np.ones(NPE)\n",
        "      for k in range(NPE):\n",
        "        if j != i:\n",
        "          if (j != k) & (k != i):\n",
        "            s3 = s3* (XI-XNODE[k])\n",
        "            g3 = s3\n",
        "        else:\n",
        "          g3 = np.zeros(NPE)\n",
        "      \n",
        "      if P == 1:\n",
        "        r3 = np.ones(NPE)\n",
        "      else:\n",
        "        r3 = r3 + g3\n",
        "    XDF.append(r3 / r1) \n",
        "\n",
        "  SF = np.array(XF)\n",
        "  DSF = np.array(XDF)\n",
        "  GJ = H*0.5\n",
        "  GDSF = DSF / GJ\n",
        "\n",
        "  return SF, GDSF, GJ\n"
      ],
      "execution_count": null,
      "outputs": []
    },
    {
      "cell_type": "markdown",
      "metadata": {
        "id": "dLQp-AHEDMd9",
        "colab_type": "text"
      },
      "source": [
        "# Gauss Points\n",
        "Calculation of Gauss Points using a User-defined function"
      ]
    },
    {
      "cell_type": "code",
      "metadata": {
        "id": "BbJXlHJPDM1U",
        "colab_type": "code",
        "colab": {
          "base_uri": "https://localhost:8080/"
        },
        "outputId": "aa4e3828-3f11-41c2-8519-17b07df9942a"
      },
      "source": [
        "print(np.polynomial.legendre.leggauss(5))"
      ],
      "execution_count": null,
      "outputs": [
        {
          "output_type": "stream",
          "text": [
            "(array([-0.90617985, -0.53846931,  0.        ,  0.53846931,  0.90617985]), array([0.23692689, 0.47862867, 0.56888889, 0.47862867, 0.23692689]))\n"
          ],
          "name": "stdout"
        }
      ]
    },
    {
      "cell_type": "markdown",
      "metadata": {
        "id": "LwHWnFG7DNR9",
        "colab_type": "text"
      },
      "source": [
        "# Calculation of Local matrices\n",
        "The main code, we use a combination with Maple."
      ]
    },
    {
      "cell_type": "code",
      "metadata": {
        "id": "7PMkx8vG9R5z",
        "colab_type": "code",
        "colab": {}
      },
      "source": [
        "def NLCOEFF(IPDF,H,A,I2,le,ue,ke,bet3,NDF=6,AKS=5/6):\n",
        "  \"\"\"Calculate the local matrices of lineal and geometrical stiffness.\n",
        "\n",
        "  Args:\n",
        "    IPDF (int): Number of points in an element\n",
        "    H (float): length of the element\n",
        "    A (float): Area of cross section\n",
        "    I2 (float): Inercia modulus in direction 2\n",
        "    le (float): Lame parameter lambda\n",
        "    ue (float): Micropolar parameter u\n",
        "    ke (float): Micropolar parameter k\n",
        "    bet3 (float): Micropolar parameter gamma\n",
        "    NDF (int, optional): Number of degrees of freedom, IFSDT micropolar = 6\n",
        "    AKS (float, optional): Shear correction factor, Rectangular = 5/6\n",
        "\n",
        "  Returns:\n",
        "    arrays\n",
        "  \"\"\" \n",
        "\n",
        "  GAUSPT, GAUSWT = np.polynomial.legendre.leggauss(IPDF)\n",
        "\n",
        "  SFA, GDSFA, GJ = SHAPE1D(H,IPDF,GAUSPT)\n",
        "  CNSTA = GJ * GAUSWT\n",
        "\n",
        "  ELK = np.zeros((IPDF*NDF,IPDF*NDF))\n",
        "  ELKG = np.zeros((IPDF*NDF,IPDF*NDF))\n",
        "\n",
        "  ELKk = np.zeros((NDF,NDF,IPDF,IPDF))\n",
        "  ELKkg = np.zeros((NDF,NDF,IPDF,IPDF))\n",
        "\n",
        "  A0X = -1\n",
        "\n",
        "  # Local matrix ELK\n",
        "  for LI in range(IPDF):\n",
        "    SF = SFA[:,LI]; GDSF = GDSFA[:,LI]; CNST = CNSTA[LI]\n",
        "    for II in range(IPDF):\n",
        "      for JJ in range(IPDF):\n",
        "        \n",
        "        # Calculation of Lineal Matrix Kl\n",
        "        # Coefficient ELK11\n",
        "        t0 = (A * le * GDSF[JJ] + 0.2e1 * A * ue * GDSF[JJ] + A * ke * GDSF[JJ]) * GDSF[II]\n",
        "        ELKk[0,0,II,JJ]=ELKk[0,0,II,JJ]+t0*CNST;\n",
        "        # Coefficient ELK12\n",
        "        t0 = 0.0e0\n",
        "        ELKk[0,1,II,JJ]=ELKk[0,1,II,JJ]+t0*CNST;\n",
        "        # Coefficient ELK13\n",
        "        t0 = 0.0e0\n",
        "        ELKk[0,2,II,JJ]=ELKk[0,2,II,JJ]+t0*CNST;\n",
        "        # Coefficient ELK14\n",
        "        t0 = A * le * SF[JJ] * GDSF[II]\n",
        "        ELKk[0,3,II,JJ]=ELKk[0,3,II,JJ]+t0*CNST;\n",
        "        # Coefficient ELK15\n",
        "        t0 = 0.0e0\n",
        "        ELKk[0,4,II,JJ]=ELKk[0,4,II,JJ]+t0*CNST;\n",
        "        # Coefficient ELK16\n",
        "        t0 = 0.0e0\n",
        "        ELKk[0,5,II,JJ]=ELKk[0,5,II,JJ]+t0*CNST;\n",
        "        # Coefficient ELK21\n",
        "        t0 = 0.0e0\n",
        "        ELKk[1,0,II,JJ]=ELKk[1,0,II,JJ]+t0*CNST;\n",
        "        # Coefficient ELK22\n",
        "        t0 = (AKS * A * ke * GDSF[JJ] + AKS * A * ue * GDSF[JJ]) * GDSF[II]\n",
        "        ELKk[1,1,II,JJ]=ELKk[1,1,II,JJ]+t0*CNST;\n",
        "        # Coefficient ELK23\n",
        "        t0 = AKS * A * ue * SF[JJ] * GDSF[II]\n",
        "        ELKk[1,2,II,JJ]=ELKk[1,2,II,JJ]+t0*CNST;\n",
        "        # Coefficient ELK24\n",
        "        t0 = 0.0e0\n",
        "        ELKk[1,3,II,JJ]=ELKk[1,3,II,JJ]+t0*CNST;\n",
        "        # Coefficient ELK25\n",
        "        t0 = 0.0e0\n",
        "        ELKk[1,4,II,JJ]=ELKk[1,4,II,JJ]+t0*CNST;\n",
        "        # Coefficient ELK26\n",
        "        t0 = -0.1e1 * AKS * A * ke * SF[JJ] * GDSF[II]\n",
        "        ELKk[1,5,II,JJ]=ELKk[1,5,II,JJ]+t0*CNST;\n",
        "        # Coefficient ELK31\n",
        "        t0 = 0.0e0\n",
        "        ELKk[2,0,II,JJ]=ELKk[2,0,II,JJ]+t0*CNST;\n",
        "        # Coefficient ELK32\n",
        "        t0 = AKS * A * ue * GDSF[JJ] * SF[II]\n",
        "        ELKk[2,1,II,JJ]=ELKk[2,1,II,JJ]+t0*CNST;\n",
        "        # Coefficient ELK33\n",
        "        t0 = (AKS * A * ke * SF[JJ] + AKS * A * ue * SF[JJ]) * SF[II] + (0.2e1 * I2 * ue * GDSF[JJ] + I2 * ke * GDSF[JJ] + I2 * le * GDSF[JJ]) * GDSF[II]\n",
        "        ELKk[2,2,II,JJ]=ELKk[2,2,II,JJ]+t0*CNST;\n",
        "        # Coefficient ELK34\n",
        "        t0 = 0.0e0\n",
        "        ELKk[2,3,II,JJ]=ELKk[2,3,II,JJ]+t0*CNST;\n",
        "        # Coefficient ELK35\n",
        "        t0 = 0.2e1 * I2 * le * SF[JJ] * GDSF[II]\n",
        "        ELKk[2,4,II,JJ]=ELKk[2,4,II,JJ]+t0*CNST;\n",
        "        # Coefficient ELK36\n",
        "        t0 = AKS * A * ke * SF[JJ] * SF[II]\n",
        "        ELKk[2,5,II,JJ]=ELKk[2,5,II,JJ]+t0*CNST;\n",
        "        # Coefficient ELK41\n",
        "        t0 = A * le * GDSF[JJ] * SF[II]\n",
        "        ELKk[3,0,II,JJ]=ELKk[3,0,II,JJ]+t0*CNST;\n",
        "        # Coefficient ELK42\n",
        "        t0 = 0.0e0\n",
        "        ELKk[3,1,II,JJ]=ELKk[3,1,II,JJ]+t0*CNST;\n",
        "        # Coefficient ELK43\n",
        "        t0 = 0.0e0\n",
        "        ELKk[3,2,II,JJ]=ELKk[3,2,II,JJ]+t0*CNST;\n",
        "        # Coefficient ELK44\n",
        "        t0 = (0.2e1 * A * ue * SF[JJ] + A * ke * SF[JJ] + A * le * SF[JJ]) * SF[II] + (AKS * I2 * GDSF[JJ] * ke + AKS * I2 * GDSF[JJ] * ue) * GDSF[II]\n",
        "        ELKk[3,3,II,JJ]=ELKk[3,3,II,JJ]+t0*CNST;\n",
        "        # Coefficient ELK45\n",
        "        t0 = 0.0e0\n",
        "        ELKk[3,4,II,JJ]=ELKk[3,4,II,JJ]+t0*CNST;\n",
        "        # Coefficient ELK46\n",
        "        t0 = 0.0e0\n",
        "        ELKk[3,5,II,JJ]=ELKk[3,5,II,JJ]+t0*CNST;\n",
        "        # Coefficient ELK51\n",
        "        t0 = 0.0e0\n",
        "        ELKk[4,0,II,JJ]=ELKk[4,0,II,JJ]+t0*CNST;\n",
        "        # Coefficient ELK52\n",
        "        t0 = 0.0e0\n",
        "        ELKk[4,1,II,JJ]=ELKk[4,1,II,JJ]+t0*CNST;\n",
        "        # Coefficient ELK53\n",
        "        t0 = 0.2e1 * I2 * le * GDSF[JJ] * SF[II]\n",
        "        ELKk[4,2,II,JJ]=ELKk[4,2,II,JJ]+t0*CNST;\n",
        "        # Coefficient ELK54\n",
        "        t0 = 0.0e0\n",
        "        ELKk[4,3,II,JJ]=ELKk[4,3,II,JJ]+t0*CNST;\n",
        "        # Coefficient ELK55\n",
        "        t0 = (0.8e1 * I2 * ue * SF[JJ] + 0.4e1 * I2 * ke * SF[JJ] + \n",
        "              0.4e1 * I2 * le * SF[JJ]) * SF[II]\n",
        "        ELKk[4,4,II,JJ]=ELKk[4,4,II,JJ]+t0*CNST;\n",
        "        # Coefficient ELK56\n",
        "        t0 = 0.0e0\n",
        "        ELKk[4,5,II,JJ]=ELKk[4,5,II,JJ]+t0*CNST;\n",
        "        # Coefficient ELK61\n",
        "        t0 = 0.0e0\n",
        "        ELKk[5,0,II,JJ]=ELKk[5,0,II,JJ]+t0*CNST;\n",
        "        # Coefficient ELK62\n",
        "        t0 = -0.1e1 * AKS * A * ke * GDSF[JJ] * SF[II]\n",
        "        ELKk[5,1,II,JJ]=ELKk[5,1,II,JJ]+t0*CNST;\n",
        "        # Coefficient ELK63\n",
        "        t0 = AKS * A * ke * SF[JJ] * SF[II]\n",
        "        ELKk[5,2,II,JJ]=ELKk[5,2,II,JJ]+t0*CNST;\n",
        "        # Coefficient ELK64\n",
        "        t0 = 0.0e0\n",
        "        ELKk[5,3,II,JJ]=ELKk[5,3,II,JJ]+t0*CNST;\n",
        "        # Coefficient ELK65\n",
        "        t0 = 0.0e0\n",
        "        ELKk[5,4,II,JJ]=ELKk[5,4,II,JJ]+t0*CNST;\n",
        "        # Coefficient ELK66\n",
        "        t0 = 0.2e1 * AKS * A * ke * SF[JJ] * SF[II] + A * bet3 * GDSF[JJ] * GDSF[II]\n",
        "        ELKk[5,5,II,JJ]=ELKk[5,5,II,JJ]+t0*CNST;\n",
        "\n",
        "\n",
        "        # Calculation of Geometrical Matrix Kg\n",
        "        # Coefficient ELKg11\n",
        "        t0 = 0.0e0\n",
        "        ELKkg[0,0,II,JJ]=ELKkg[0,0,II,JJ]+t0*CNST;\n",
        "        # Coefficient ELKg12\n",
        "        t0 = 0.0e0\n",
        "        ELKkg[0,1,II,JJ]=ELKkg[0,1,II,JJ]+t0*CNST;\n",
        "        # Coefficient ELKg13\n",
        "        t0 = 0.0e0\n",
        "        ELKkg[0,2,II,JJ]=ELKkg[0,2,II,JJ]+t0*CNST;\n",
        "        # Coefficient ELKg14\n",
        "        t0 = 0.0e0\n",
        "        ELKkg[0,3,II,JJ]=ELKkg[0,3,II,JJ]+t0*CNST;\n",
        "        # Coefficient ELKg15\n",
        "        t0 = 0.0e0\n",
        "        ELKkg[0,4,II,JJ]=ELKkg[0,4,II,JJ]+t0*CNST;\n",
        "        # Coefficient ELKg16\n",
        "        t0 = 0.0e0\n",
        "        ELKkg[0,5,II,JJ]=ELKkg[0,5,II,JJ]+t0*CNST;\n",
        "        # Coefficient ELKg21\n",
        "        t0 = 0.0e0\n",
        "        ELKkg[1,0,II,JJ]=ELKkg[1,0,II,JJ]+t0*CNST;\n",
        "        # Coefficient ELKg22\n",
        "        t0 = - A0X * GDSF[JJ] * GDSF[II]\n",
        "        ELKkg[1,1,II,JJ]=ELKkg[1,1,II,JJ]+t0*CNST;\n",
        "        # Coefficient ELKg23\n",
        "        t0 = 0.0e0\n",
        "        ELKkg[1,2,II,JJ]=ELKkg[1,2,II,JJ]+t0*CNST;\n",
        "        # Coefficient ELKg24\n",
        "        t0 = 0.0e0\n",
        "        ELKkg[1,3,II,JJ]=ELKkg[1,3,II,JJ]+t0*CNST;\n",
        "        # Coefficient ELKg25\n",
        "        t0 = 0.0e0\n",
        "        ELKkg[1,4,II,JJ]=ELKkg[1,4,II,JJ]+t0*CNST;\n",
        "        # Coefficient ELKg26\n",
        "        t0 = 0.0e0\n",
        "        ELKkg[1,5,II,JJ]=ELKkg[1,5,II,JJ]+t0*CNST;\n",
        "        # Coefficient ELKg31\n",
        "        t0 = 0.0e0\n",
        "        ELKkg[2,0,II,JJ]=ELKkg[2,0,II,JJ]+t0*CNST;\n",
        "        # Coefficient ELKg32\n",
        "        t0 = 0.0e0\n",
        "        ELKkg[2,1,II,JJ]=ELKkg[2,1,II,JJ]+t0*CNST;\n",
        "        # Coefficient ELKg33\n",
        "        t0 = 0.0e0\n",
        "        ELKkg[2,2,II,JJ]=ELKkg[2,2,II,JJ]+t0*CNST;\n",
        "        # Coefficient ELKg34\n",
        "        t0 = 0.0e0\n",
        "        ELKkg[2,3,II,JJ]=ELKkg[2,3,II,JJ]+t0*CNST;\n",
        "        # Coefficient ELKg35\n",
        "        t0 = 0.0e0\n",
        "        ELKkg[2,4,II,JJ]=ELKkg[2,4,II,JJ]+t0*CNST;\n",
        "        # Coefficient ELKg36\n",
        "        t0 = 0.0e0\n",
        "        ELKkg[2,5,II,JJ]=ELKkg[2,5,II,JJ]+t0*CNST;\n",
        "        # Coefficient ELKg41\n",
        "        t0 = 0.0e0\n",
        "        ELKkg[3,0,II,JJ]=ELKkg[3,0,II,JJ]+t0*CNST;\n",
        "        # Coefficient ELKg42\n",
        "        t0 = 0.0e0\n",
        "        ELKkg[3,1,II,JJ]=ELKkg[3,1,II,JJ]+t0*CNST;\n",
        "        # Coefficient ELKg43\n",
        "        t0 = 0.0e0\n",
        "        ELKkg[3,2,II,JJ]=ELKkg[3,2,II,JJ]+t0*CNST;\n",
        "        # Coefficient ELKg44\n",
        "        t0 = - 0* A0X / (2 * ue + ke + le) * le * SF[JJ] * SF[II]\n",
        "        ELKkg[3,3,II,JJ]=ELKkg[3,3,II,JJ]+t0*CNST;\n",
        "        # Coefficient ELKg45\n",
        "        t0 = 0.0e0\n",
        "        ELKkg[3,4,II,JJ]=ELKkg[3,4,II,JJ]+t0*CNST;\n",
        "        # Coefficient ELKg46\n",
        "        t0 = 0.0e0\n",
        "        ELKkg[3,5,II,JJ]=ELKkg[3,5,II,JJ]+t0*CNST;\n",
        "        # Coefficient ELKg51\n",
        "        t0 = 0.0e0\n",
        "        ELKkg[4,0,II,JJ]=ELKkg[4,0,II,JJ]+t0*CNST;\n",
        "        # Coefficient ELKg52\n",
        "        t0 = 0.0e0\n",
        "        ELKkg[4,1,II,JJ]=ELKkg[4,1,II,JJ]+t0*CNST;\n",
        "        # Coefficient ELKg53\n",
        "        t0 = 0.0e0\n",
        "        ELKkg[4,2,II,JJ]=ELKkg[4,2,II,JJ]+t0*CNST;\n",
        "        # Coefficient ELKg54\n",
        "        t0 = 0.0e0\n",
        "        ELKkg[4,3,II,JJ]=ELKkg[4,3,II,JJ]+t0*CNST;\n",
        "        # Coefficient ELKg55\n",
        "        t0 = 0.0e0\n",
        "        ELKkg[4,4,II,JJ]=ELKkg[4,4,II,JJ]+t0*CNST;\n",
        "        # Coefficient ELKg56\n",
        "        t0 = 0.0e0\n",
        "        ELKkg[4,5,II,JJ]=ELKkg[4,5,II,JJ]+t0*CNST;\n",
        "        # Coefficient ELKg61\n",
        "        t0 = 0.0e0\n",
        "        ELKkg[5,0,II,JJ]=ELKkg[5,0,II,JJ]+t0*CNST;\n",
        "        # Coefficient ELKg62\n",
        "        t0 = 0.0e0\n",
        "        ELKkg[5,1,II,JJ]=ELKkg[5,1,II,JJ]+t0*CNST;\n",
        "        # Coefficient ELKg63\n",
        "        t0 = 0.0e0\n",
        "        ELKkg[5,2,II,JJ]=ELKkg[5,2,II,JJ]+t0*CNST;\n",
        "        # Coefficient ELKg64\n",
        "        t0 = 0.0e0\n",
        "        ELKkg[5,3,II,JJ]=ELKkg[5,3,II,JJ]+t0*CNST;\n",
        "        # Coefficient ELKg65\n",
        "        t0 = 0.0e0\n",
        "        ELKkg[5,4,II,JJ]=ELKkg[5,4,II,JJ]+t0*CNST;\n",
        "        # Coefficient ELKg66\n",
        "        t0 = 0.0e0\n",
        "        ELKkg[5,5,II,JJ]=ELKkg[5,5,II,JJ]+t0*CNST;\n",
        "\n",
        "  # Matrix Rearrenge\n",
        "  II = 0\n",
        "  for I in range(IPDF):\n",
        "    JJ= 0\n",
        "    for J in range(IPDF):\n",
        "      for i in range(NDF):\n",
        "        for j in range(NDF):\n",
        "          ELK[II+i,JJ+j] = ELKk[i,j,I,J]\n",
        "          ELKG[II+i,JJ+j] = ELKkg[i,j,I,J]\n",
        "      JJ = (J+1)*NDF\n",
        "    II = (I+1)*NDF\n",
        "\n",
        "  return ELK, ELKG"
      ],
      "execution_count": null,
      "outputs": []
    },
    {
      "cell_type": "markdown",
      "metadata": {
        "id": "c1B9n_CPXMTl",
        "colab_type": "text"
      },
      "source": [
        "# Assembly of global matrices\n",
        "Assemble the matrices from local to global forms"
      ]
    },
    {
      "cell_type": "code",
      "metadata": {
        "id": "phfvpcWtXLqt",
        "colab_type": "code",
        "colab": {}
      },
      "source": [
        "def NLASSEMBLE(NI,IPDF,GLK,GLKG,ELK,ELKG,NDF=6):\n",
        "\n",
        "  # Calculation of the index of assembly\n",
        "  index=[]\n",
        "  for i in range(IPDF):\n",
        "    start = NI[i] * NDF\n",
        "    for j in range(NDF):\n",
        "      index.append(start+j)\n",
        "\n",
        "  # Assembly of element stifness matrix into the system matrix\n",
        "  for i in range(len(index)):\n",
        "    ii = index[i]\n",
        "    for j in range(len(index)):\n",
        "      jj = index[j]\n",
        "      GLK[ii,jj] = GLK[ii,jj] + ELK[i,j]\n",
        "      GLKG[ii,jj] = GLKG[ii,jj] + ELKG[i,j]\n",
        "\n",
        "  return GLK, GLKG\n"
      ],
      "execution_count": null,
      "outputs": []
    },
    {
      "cell_type": "markdown",
      "metadata": {
        "id": "wUxTCJZ0F1_q",
        "colab_type": "text"
      },
      "source": [
        "# Calculation of stifness and geometrical matrices\n",
        "General code where the global stiffness matrix is calculated\n"
      ]
    },
    {
      "cell_type": "code",
      "metadata": {
        "id": "VM4UXTlS_WHM",
        "colab_type": "code",
        "colab": {}
      },
      "source": [
        "def NLSTIFF(IELEM,NEQ,NOD,GLX,GLK,GLKG,IPDF,A,I2,le,ue,ke,bet3,NDF=6,AKS=5/6):\n",
        "  \"\"\"Calculate the Lineal and Geometrical global matrices.\n",
        "\n",
        "  Args:\n",
        "    IELEM (int): Number of elements\n",
        "    NEQ (int): Number of equations\n",
        "    NOD (array): Array of nodes connectivity\n",
        "    GLX (array): Global position of nodes\n",
        "    GLK (array): Global lineal matrix\n",
        "    GLKG (array): Global geometrical matrix\n",
        "    IPDF (int): Number of nodes per element\n",
        "    A (float): Area of cross section\n",
        "    I2 (float): Second moment of inertia in direction 2\n",
        "    le (float): Lame parameter lambda\n",
        "    ue (float): Eringen micropolar parameter u\n",
        "    ke (float): Eringen micropolar parameter k\n",
        "    bet3 (float): Micropolar parameter gamma\n",
        "    NDF (int,optional): Number of degrees of freedom, IFSDT micropolar = 6\n",
        "    AKS (float, optional): Shear correction factor, Rectangular = 5/6\n",
        "\n",
        "  Returns:\n",
        "    Array\n",
        "  \"\"\"\n",
        "\n",
        "  for NE in range(IELEM):\n",
        "    ELX = []\n",
        "    for i in range(IPDF):\n",
        "      NI = int(NOD[NE,i])\n",
        "      ELX.append(GLX[NI])\n",
        "\n",
        "    # Initiate local matrices\n",
        "    H = ELX[-1] - ELX[0]\n",
        "    ELK, ELKG = NLCOEFF(IPDF,H,A,I2,le,ue,ke,bet3,NDF,AKS)\n",
        "\n",
        "    # Assembly of matrices\n",
        "    NI= NOD[NE,:]\n",
        "    GLK, GLKG = NLASSEMBLE(NI,IPDF,GLK,GLKG,ELK,ELKG)\n",
        "\n",
        "  return GLK, GLKG"
      ],
      "execution_count": null,
      "outputs": []
    },
    {
      "cell_type": "markdown",
      "metadata": {
        "id": "UiGdi5xZXJ4e",
        "colab_type": "text"
      },
      "source": [
        "# Boundary Conditions Code\n",
        "Code for establishing the boundary conditions in the global matrices"
      ]
    },
    {
      "cell_type": "code",
      "metadata": {
        "id": "3dqI-GSqd9QL",
        "colab_type": "code",
        "colab": {}
      },
      "source": [
        "def NLSYMBNDRY(NSPV,ISPV,VSPV,GLK,GLKG,NDF=6):\n",
        "  \"\"\"Establish the boundary condition in the global matrices\n",
        "\n",
        "  Args:\n",
        "    NSPV (int): Number of primary boundary conditions\n",
        "    ISPV (array): Position of primary boundary conditions\n",
        "    VSPV (array): Value of primary boundary conditions\n",
        "    GLK (array): Global stiffness matrix of the system\n",
        "    GLKG (array): Global geometrical matrix of the system\n",
        "    NDF (int,optional): Number of degrees of freedom\n",
        "\n",
        "  Returns:\n",
        "    Arrays\n",
        "  \"\"\"\n",
        "\n",
        "  # Primary degrees of freedom\n",
        "  if NSPV != 0:\n",
        "    for NB in range(NSPV):\n",
        "      FDF = (ISPV[NB,0]-1)*NDF+ISPV[NB,1]-1\n",
        "      GLK[:,FDF] = 0\n",
        "      GLK[FDF,:] = 0\n",
        "      GLK[FDF,FDF] = 1\n",
        "      GLKG[:,FDF] = 0\n",
        "      GLKG[FDF,:] = 0\n",
        "      GLKG[FDF,FDF] = 1\n",
        "\n",
        "  return GLK, GLKG"
      ],
      "execution_count": null,
      "outputs": []
    },
    {
      "cell_type": "markdown",
      "metadata": {
        "id": "0y-_dF_1IYZq",
        "colab_type": "text"
      },
      "source": [
        "# Plot Mode Shapes\n"
      ]
    },
    {
      "cell_type": "code",
      "metadata": {
        "id": "viqgHLlYPVbz",
        "colab_type": "code",
        "colab": {}
      },
      "source": [
        "def PlotModeShapes(Val,Vec,GLX,NDF=6,NMODES=4):\n",
        "  \"\"\"Plot the buckling modes of a beam with their eignevalues and eigenvectors.\n",
        "\n",
        "  Args:\n",
        "    Val(array): Eigenvector of the beam\n",
        "    Vec(array): Eigenvalues of the beam\n",
        "    GLX(array): Global position of nodes\n",
        "    NDF(int, optional): Number of degrees of freedom\n",
        "    NMODES(int, optional): Number of modes plotted\n",
        "\n",
        "  Returns:\n",
        "    Plot\n",
        "    Array\n",
        "  \"\"\"\n",
        "\n",
        "\n",
        "  Vy=Vec[1::NDF,:]\n",
        "\n",
        "  # Normalize the eignevector\n",
        "  VN=[Vy[:,i]/max(Vy[:,i],key=abs) for i in range(len(Vy[0]))]\n",
        "  VN = np.array([*zip(*VN)])\n",
        "\n",
        "  # Sort the vector matrix and modes to minimum and maximum\n",
        "  indx = Val.argsort(axis=0)\n",
        "  Valnew = Val[indx]\n",
        "  VN = VN[ : , indx ]\n",
        "\n",
        "  # Extracting all terms Nan\n",
        "  nbc = 0\n",
        "  for i in range(len(Valnew)):\n",
        "    if Valnew[i] < 0:\n",
        "      nbc+= 1\n",
        "    else: \n",
        "      break\n",
        "\n",
        "  # Plotting mode shapes\n",
        "  L = max(GLX)\n",
        "  DataX = np.transpose(VN[:,0:NMODES])\n",
        "  DataY = [GLX] * NMODES\n",
        "\n",
        "  XLIM=[[-1,1]]*NMODES\n",
        "  YLIM=[[0,1]]*NMODES\n",
        "\n",
        "  #fig, axs = plt.subplots(1, NMODES)\n",
        "  #fig.suptitle('Mode Shapes in Micropolar Beam')\n",
        "  #for j, (x, y, xlim, ylim) in enumerate(zip(DataX,DataY,XLIM,YLIM)):\n",
        "  #  axs[j].plot(x , y, marker='o', color='b')\n",
        "  #  axs[j].set_title(Valnew[j])\n",
        "  #  axs[j].set_xlim(xlim)\n",
        "  #  axs[j].set_ylim(ylim)\n",
        "  \n",
        "  return Valnew\n",
        "  \n",
        "\n",
        "  \n",
        "\n",
        "\n"
      ],
      "execution_count": null,
      "outputs": []
    },
    {
      "cell_type": "markdown",
      "metadata": {
        "id": "pMStoKXIk08R",
        "colab_type": "text"
      },
      "source": [
        "# Main Code\n",
        "This is the main code: MPBEAM 1.0\n"
      ]
    },
    {
      "cell_type": "code",
      "metadata": {
        "id": "j5_i5ufflERy",
        "colab_type": "code",
        "colab": {}
      },
      "source": [
        "def IFSDTBuck_MP(le,ke,ue,bet3,Bb,Hh,P,IELEM,BC,DX,NDF=6):\n",
        "  \"\"\" Micropolar IFSDT 1d beam Code. Calculate the buckling modes and critical\n",
        "  loads of any beam with a rectangular cross section using Finite Element Method.\n",
        "  Returns plots and the eigenvector and eigenvalues calculated.\n",
        "\n",
        "  Args:\n",
        "    le (float): Lambda Lame coeficcient lambda\n",
        "    ke (float): Micropolar parameter k\n",
        "    ue (float): Eringen Lame coeficient u\n",
        "    bet3 (float): Micropolar parameter gamma\n",
        "    Bb (float): Base of the cross section\n",
        "    Hh (float): Height og the beam\n",
        "    P (int): Degree of polynomial\n",
        "    IELEM (int): Number of elements\n",
        "    BC (str): Boundary condition\n",
        "    DX (array): Space between elements\n",
        "    NDF (int,optional): Number of degrees of freedom\n",
        "\n",
        "  Returns:\n",
        "    Arrays\n",
        "    Plots (optional)\n",
        "  \"\"\"\n",
        "  # Material properties\n",
        "  Em=(2*ue+ke)*(3*le+2*ue+ke)/(2*le+2*ue+ke)\n",
        "  Num=le/(2*ue+2*le+ke)\n",
        "  ke = 2*ka\n",
        "  ue = ue-0.5*ke\n",
        "\n",
        "  # Cross sectional properties\n",
        "  A = Bb*Hh; I2=Bb*(Hh**3) / 12;\n",
        "  AKS = 5/6\n",
        "\n",
        "  # Geometry\n",
        "  IPDF = P+1\n",
        "  NNM = IELEM*P+1\n",
        "  NN = IPDF*NDF\n",
        "  NEQ = NNM*NDF\n",
        "  NOD, GLX = NLMSH1D(IELEM,IPDF,DX)\n",
        "\n",
        "  # Boundary Conditions \n",
        "  Boundary = {'CF':{'NSPV':5,'ISPV':[[1,1],[1,2],[1,3],[1,4],[1,5]],\n",
        "                    'VSPV':np.zeros(5)},\n",
        "            'SS':{'NSPV':3,'ISPV':[[1,1],[1,2],[NNM,2]],'VSPV':np.zeros(3)},\n",
        "            'CS':{'NSPV':6,'ISPV':[[1,1],[1,2],[1,3],[1,4],[1,5],[NNM,2]],\n",
        "                  'VSPV':np.zeros(6)},\n",
        "            'CC':{'NSPV':10,'ISPV':[[1,1],[1,2],[1,3],[1,4],[1,5],\n",
        "                                    [NNM,1],[NNM,2],[NNM,3],[NNM,4],[NNM,5]],\n",
        "                  'VSPV':np.zeros(10)}}\n",
        "  NSPV=Boundary[BC]['NSPV']\n",
        "  ISPV=np.array(Boundary[BC]['ISPV'])\n",
        "  VSPV=np.array(Boundary[BC]['VSPV'])\n",
        "\n",
        "  # Calculation of the stifness matrices\n",
        "  GLK = np.zeros((NEQ,NEQ))\n",
        "  GLKG = np.zeros((NEQ,NEQ))\n",
        "  GLK, GLKG = NLSTIFF(IELEM,NEQ,NOD,GLX,GLK,GLKG,IPDF,A,I2,le,ue,ke,bet3,NDF)\n",
        "  # Imposition of boundary condition\n",
        "  GLK, GLKG = NLSYMBNDRY(NSPV,ISPV,VSPV,GLK,GLKG)\n",
        "  np.set_printoptions(edgeitems=68)\n",
        "  # Calculation of eigenvalues and eignevectors\n",
        "  W, V = eig(GLK,GLKG)\n",
        "  W = np.real(W)\n",
        "  W = np.around(W,decimals=5)\n",
        "  W = PlotModeShapes(W,V,GLX)\n",
        "\n",
        "  return W"
      ],
      "execution_count": null,
      "outputs": []
    }
  ]
}